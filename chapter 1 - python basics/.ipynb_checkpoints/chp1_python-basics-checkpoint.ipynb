{
 "cells": [
  {
   "cell_type": "code",
   "execution_count": 3,
   "id": "a7d932e5",
   "metadata": {},
   "outputs": [
    {
     "data": {
      "text/plain": [
       "121.00000000000001"
      ]
     },
     "execution_count": 3,
     "metadata": {},
     "output_type": "execute_result"
    }
   ],
   "source": [
    "# variable assignment, empty space, and writing our own programs\n",
    "def fv_f(pv,r,n):\n",
    "    return pv*(1+r)**n\n",
    "\n",
    "fv_f(100,0.1,2)"
   ]
  },
  {
   "cell_type": "code",
   "execution_count": 6,
   "id": "c3f73a08",
   "metadata": {},
   "outputs": [
    {
     "data": {
      "text/plain": [
       "148.59"
      ]
     },
     "execution_count": 6,
     "metadata": {},
     "output_type": "execute_result"
    }
   ],
   "source": [
    "round(fv_f(100,0.02,20),2)"
   ]
  },
  {
   "cell_type": "code",
   "execution_count": 7,
   "id": "4a0596b8",
   "metadata": {},
   "outputs": [],
   "source": [
    "# If some comments are added by explaining the meanings of input variables, \n",
    "# the formula used, plus a few examples, it will be extremely helpful for other users or programmers. \n",
    "# Check the following program with comments:\n",
    "\n",
    "def pv_f(fv,r,n):\n",
    "    \"\"\"Objective: estimate present value\n",
    "                     fv\n",
    "    formula  : pv=-------------\n",
    "                   (1+r)^n\n",
    "          fv: future value\n",
    "          r : discount periodic rate\n",
    "          n : number of periods\n",
    "\n",
    "    Example #1  >>>pv_f(100,0.1,1)\n",
    "                   90.9090909090909\n",
    "    \n",
    "    Example #2: >>>pv_f(r=0.1,fv=100,n=1)\n",
    "                    90.9090909090909\n",
    "    \"\"\"\n",
    "    return fv/(1+r)**n"
   ]
  },
  {
   "cell_type": "code",
   "execution_count": 9,
   "id": "f85385d4",
   "metadata": {},
   "outputs": [
    {
     "name": "stdout",
     "output_type": "stream",
     "text": [
      "Help on function pv_f in module __main__:\n",
      "\n",
      "pv_f(fv, r, n)\n",
      "    Objective: estimate present value\n",
      "                     fv\n",
      "    formula  : pv=-------------\n",
      "                   (1+r)^n\n",
      "          fv: fture value\n",
      "          r : discount periodic rate\n",
      "          n : number of periods\n",
      "    \n",
      "    Example #1  >>>pv_f(100,0.1,1)\n",
      "                   90.9090909090909\n",
      "    \n",
      "    Example #2: >>>pv_f(r=0.1,fv=100,n=1)\n",
      "                    90.9090909090909\n",
      "\n"
     ]
    }
   ],
   "source": [
    "help(pv_f)"
   ]
  },
  {
   "cell_type": "code",
   "execution_count": 10,
   "id": "5e0d018a",
   "metadata": {},
   "outputs": [
    {
     "name": "stdout",
     "output_type": "stream",
     "text": [
      "-100\n",
      "50\n",
      "40\n",
      "30\n"
     ]
    }
   ],
   "source": [
    "# loops\n",
    "import numpy as np\n",
    "cashFlows=np.array([-100,50,40,30])\n",
    "for cash in cashFlows:\n",
    "    print(cash)"
   ]
  },
  {
   "cell_type": "code",
   "execution_count": 12,
   "id": "30c0cc13",
   "metadata": {},
   "outputs": [],
   "source": [
    "# Assuming that we invest $100 today and $30 next year, the future cash inflow will be \n",
    "# $10, $40, $50, $45, and $20 at the end of each year for the next 5 years, \n",
    "# starting at the end of the second year; see the following timeline and its corresponding cash flows:\n",
    "\n",
    "# -100    -30       10       40        50         45       20\n",
    "# |--------|---------|--------|---------|----------|--------|\n",
    "# 0        1         2        3         4          5        6\n",
    "\n"
   ]
  },
  {
   "cell_type": "code",
   "execution_count": 13,
   "id": "0ec09201",
   "metadata": {},
   "outputs": [],
   "source": [
    "# What is the Net Present Value (NPV) if the discount rate is 3.5%? NPV is defined as \n",
    "# the present values of all benefits minus the present values of all costs. If a cash inflow has a positive sign \n",
    "# while a cash outflow has a negative sign, then NPV can be defined conveniently as the summation of \n",
    "# the present values of all cash flows.\n",
    "\n",
    "def npv_f(rate, cashflows):\n",
    "       total = 0.0\n",
    "       for i in range(0,len(cashflows)):\n",
    "             total += cashflows[i] / (1 + rate)**i\n",
    "       return total"
   ]
  },
  {
   "cell_type": "code",
   "execution_count": 14,
   "id": "6f179245",
   "metadata": {},
   "outputs": [
    {
     "data": {
      "text/plain": [
       "14.158224763725372"
      ]
     },
     "execution_count": 14,
     "metadata": {},
     "output_type": "execute_result"
    }
   ],
   "source": [
    "r=0.035\n",
    "cashflows=[-100,-30,10,40,50,45,20]\n",
    "\n",
    "npv_f(r,cashflows)"
   ]
  },
  {
   "cell_type": "code",
   "execution_count": 15,
   "id": "ffc50ebd",
   "metadata": {},
   "outputs": [],
   "source": [
    "# Here is another npv_f() function with a function called enumerate(). \n",
    "# This function willgenerate a pair of indices, starting from0, and its corresponding value:\n",
    "\n",
    "def npv_f(rate, cashflows):\n",
    "      total = 0.0\n",
    "      for i, cashflow in enumerate(cashflows):\n",
    "               total += cashflow / (1 + rate)**i\n",
    "      return total"
   ]
  },
  {
   "cell_type": "code",
   "execution_count": 16,
   "id": "e9760e73",
   "metadata": {},
   "outputs": [
    {
     "data": {
      "text/plain": [
       "14.158224763725372"
      ]
     },
     "execution_count": 16,
     "metadata": {},
     "output_type": "execute_result"
    }
   ],
   "source": [
    "npv_f(r,cashflows)"
   ]
  },
  {
   "cell_type": "code",
   "execution_count": 17,
   "id": "65269b1e",
   "metadata": {},
   "outputs": [],
   "source": [
    "# Unlike the npv_f function specified previously, the NPV function from Microsoft Excel is actually a \n",
    "# PV function, meaning that it can be applied only to the future values. \n",
    "# Its equivalent Python program, which is called npv_Excel, is shown here:\n",
    "\n",
    "def npv_Excel(rate, cashflows):\n",
    "       total = 0.0\n",
    "       for i, cashflow in enumerate(cashflows):\n",
    "                total += cashflow / (1 + rate)**(i+1)\n",
    "       return total"
   ]
  },
  {
   "cell_type": "code",
   "execution_count": 23,
   "id": "af39e0a8",
   "metadata": {},
   "outputs": [
    {
     "data": {
      "text/plain": [
       "14.158224763725372"
      ]
     },
     "execution_count": 23,
     "metadata": {},
     "output_type": "execute_result"
    }
   ],
   "source": [
    "npv_Excel(r,cashflows[1:7])+cashflows[0]"
   ]
  },
  {
   "cell_type": "code",
   "execution_count": 24,
   "id": "98f4201a",
   "metadata": {},
   "outputs": [
    {
     "name": "stdout",
     "output_type": "stream",
     "text": [
      "1\n",
      "2\n",
      "3\n",
      "4\n",
      "5\n",
      "6\n",
      "7\n",
      "8\n",
      "9\n"
     ]
    }
   ],
   "source": [
    "# By using a loop, we can repeat the same task with different inputs. For example, \n",
    "# we plan to print a set of values. The following is such an example for a while loop:\n",
    "\n",
    "i=1\n",
    "while(i<10):\n",
    "      print(i)\n",
    "      i+=1"
   ]
  },
  {
   "cell_type": "code",
   "execution_count": 25,
   "id": "b0d74164",
   "metadata": {},
   "outputs": [
    {
     "name": "stdout",
     "output_type": "stream",
     "text": [
      "0.07163900000005098\n",
      "0.33673299999790873\n"
     ]
    }
   ],
   "source": [
    "# The following program will report a discount (or any number of discount rates), \n",
    "# making its corresponding NPV equal zero. Assume the cash flow will be \n",
    "# 550, -500, -500, -500, and 1000 at time 0, at the end of each year of the next 4 years. \n",
    "\n",
    "cashFlows=(550,-500,-500,-500,1000)\n",
    "r=0\n",
    "while(r<1.0):\n",
    "     r+=0.000001\n",
    "     npv=npv_f(r,cashFlows)\n",
    "     if(abs(npv)<=0.0001):\n",
    "            print(r)"
   ]
  },
  {
   "cell_type": "code",
   "execution_count": 4,
   "id": "145b3ae8",
   "metadata": {},
   "outputs": [],
   "source": [
    "# reading files; open, read, shut\n",
    "f=open(\"./test.txt\",\"r\")\n",
    "x=f.read() # stores file contents into variable\n",
    "f.close()"
   ]
  },
  {
   "cell_type": "code",
   "execution_count": 5,
   "id": "491275fd",
   "metadata": {},
   "outputs": [
    {
     "name": "stdout",
     "output_type": "stream",
     "text": [
      "a b\n",
      "1 2\n",
      "3 4\n"
     ]
    }
   ],
   "source": [
    "print(x) # reads from file"
   ]
  },
  {
   "cell_type": "code",
   "execution_count": null,
   "id": "42a08fd7",
   "metadata": {},
   "outputs": [],
   "source": [
    "# For the second example, let's download the daily historical price for IBM from Yahoo!Finance"
   ]
  },
  {
   "cell_type": "code",
   "execution_count": null,
   "id": "43e437f1",
   "metadata": {},
   "outputs": [],
   "source": [
    "# The first line shows the variable names: date, open price, high price achieved during the trading day, \n",
    "# low price achieved during the trading day, close price of the last transaction during the trading day, \n",
    "# trading volume, and adjusted price for the trading day. The delimiter is a comma. There are several \n",
    "# ways of loading the text file. Some methods are discussed here:"
   ]
  },
  {
   "cell_type": "code",
   "execution_count": 6,
   "id": "9722fab5",
   "metadata": {},
   "outputs": [
    {
     "data": {
      "text/html": [
       "<div>\n",
       "<style scoped>\n",
       "    .dataframe tbody tr th:only-of-type {\n",
       "        vertical-align: middle;\n",
       "    }\n",
       "\n",
       "    .dataframe tbody tr th {\n",
       "        vertical-align: top;\n",
       "    }\n",
       "\n",
       "    .dataframe thead th {\n",
       "        text-align: right;\n",
       "    }\n",
       "</style>\n",
       "<table border=\"1\" class=\"dataframe\">\n",
       "  <thead>\n",
       "    <tr style=\"text-align: right;\">\n",
       "      <th></th>\n",
       "      <th>Date</th>\n",
       "      <th>Open</th>\n",
       "      <th>High</th>\n",
       "      <th>Low</th>\n",
       "      <th>Close</th>\n",
       "      <th>Adj Close</th>\n",
       "      <th>Volume</th>\n",
       "    </tr>\n",
       "  </thead>\n",
       "  <tbody>\n",
       "    <tr>\n",
       "      <th>1</th>\n",
       "      <td>2020-12-30</td>\n",
       "      <td>118.355644</td>\n",
       "      <td>119.359467</td>\n",
       "      <td>118.193115</td>\n",
       "      <td>118.871895</td>\n",
       "      <td>113.177544</td>\n",
       "      <td>3535794</td>\n",
       "    </tr>\n",
       "    <tr>\n",
       "      <th>2</th>\n",
       "      <td>2020-12-31</td>\n",
       "      <td>118.757172</td>\n",
       "      <td>120.487572</td>\n",
       "      <td>118.537285</td>\n",
       "      <td>120.344170</td>\n",
       "      <td>114.579292</td>\n",
       "      <td>3738822</td>\n",
       "    </tr>\n",
       "  </tbody>\n",
       "</table>\n",
       "</div>"
      ],
      "text/plain": [
       "         Date        Open        High         Low       Close   Adj Close  \\\n",
       "1  2020-12-30  118.355644  119.359467  118.193115  118.871895  113.177544   \n",
       "2  2020-12-31  118.757172  120.487572  118.537285  120.344170  114.579292   \n",
       "\n",
       "    Volume  \n",
       "1  3535794  \n",
       "2  3738822  "
      ]
     },
     "execution_count": 6,
     "metadata": {},
     "output_type": "execute_result"
    }
   ],
   "source": [
    "# Method 1: We could use read_csv from the pandas module:\n",
    "\n",
    "import pandas as pd\n",
    "x=pd.read_csv(\"./ibm.csv\")\n",
    "x[1:3]"
   ]
  },
  {
   "cell_type": "code",
   "execution_count": 10,
   "id": "0e4731fd",
   "metadata": {},
   "outputs": [
    {
     "data": {
      "text/html": [
       "<div>\n",
       "<style scoped>\n",
       "    .dataframe tbody tr th:only-of-type {\n",
       "        vertical-align: middle;\n",
       "    }\n",
       "\n",
       "    .dataframe tbody tr th {\n",
       "        vertical-align: top;\n",
       "    }\n",
       "\n",
       "    .dataframe thead th {\n",
       "        text-align: right;\n",
       "    }\n",
       "</style>\n",
       "<table border=\"1\" class=\"dataframe\">\n",
       "  <thead>\n",
       "    <tr style=\"text-align: right;\">\n",
       "      <th></th>\n",
       "      <th>Date</th>\n",
       "      <th>Open</th>\n",
       "      <th>High</th>\n",
       "      <th>Low</th>\n",
       "      <th>Close</th>\n",
       "      <th>Adj Close</th>\n",
       "      <th>Volume</th>\n",
       "    </tr>\n",
       "  </thead>\n",
       "  <tbody>\n",
       "    <tr>\n",
       "      <th>1</th>\n",
       "      <td>2020-12-30</td>\n",
       "      <td>118.355644</td>\n",
       "      <td>119.359467</td>\n",
       "      <td>118.193115</td>\n",
       "      <td>118.871895</td>\n",
       "      <td>113.177544</td>\n",
       "      <td>3535794</td>\n",
       "    </tr>\n",
       "    <tr>\n",
       "      <th>2</th>\n",
       "      <td>2020-12-31</td>\n",
       "      <td>118.757172</td>\n",
       "      <td>120.487572</td>\n",
       "      <td>118.537285</td>\n",
       "      <td>120.344170</td>\n",
       "      <td>114.579292</td>\n",
       "      <td>3738822</td>\n",
       "    </tr>\n",
       "  </tbody>\n",
       "</table>\n",
       "</div>"
      ],
      "text/plain": [
       "         Date        Open        High         Low       Close   Adj Close  \\\n",
       "1  2020-12-30  118.355644  119.359467  118.193115  118.871895  113.177544   \n",
       "2  2020-12-31  118.757172  120.487572  118.537285  120.344170  114.579292   \n",
       "\n",
       "    Volume  \n",
       "1  3535794  \n",
       "2  3738822  "
      ]
     },
     "execution_count": 10,
     "metadata": {},
     "output_type": "execute_result"
    }
   ],
   "source": [
    "# Method 2: We could use read_table from the pandas module; see the following code:\n",
    "\n",
    "import pandas as pd\n",
    "x=pd.read_table(\"./ibm.csv\",sep=',')\n",
    "x[1:3]"
   ]
  },
  {
   "cell_type": "code",
   "execution_count": 8,
   "id": "f9eb5f7f",
   "metadata": {},
   "outputs": [
    {
     "name": "stdout",
     "output_type": "stream",
     "text": [
      "{'zip': '10504', 'sector': 'Technology', 'fullTimeEmployees': 345900, 'longBusinessSummary': \"International Business Machines Corporation provides integrated solutions and services worldwide. Its Cloud & Cognitive Software segment offers software for vertical and domain-specific solutions in various application areas; and customer information control system and storage, and analytics and integration software solutions to support client mission on-premise workloads in banking, airline, and retail industries. It offers middleware and data platform software, including Red Hat that enables the operation of clients' hybrid multi-cloud environments; and Cloud Paks, WebSphere distributed, and analytics platform software, such as DB2 distributed, information integration, and enterprise content management, as well as IoT, Blockchain and AI/Watson platforms. The company's Global Business Services segment offers business consulting services; system integration, application management, maintenance, and support services for packaged software; and finance, procurement, talent and engagement, and industry-specific business process outsourcing services. Its Global Technology Services segment provides IT infrastructure and platform services; and project, managed, outsourcing, and cloud-delivered services for enterprise IT infrastructure environments; and IT infrastructure support services. The company's Systems segment offers servers for businesses, cloud service providers, and scientific computing organizations; data storage products and solutions; and z/OS, an enterprise operating system, as well as Linux. Its Global Financing segment provides lease, installment payment, loan financing, short-term working capital financing, and remanufacturing and remarketing services. It has a collaboration with GK Software SE to enhance retail innovation and customer omnichannel experience with hybrid cloud technology; and with Apptio, Inc. The company was formerly known as Computing-Tabulating-Recording Co. The company was incorporated in 1911 and is headquartered in Armonk, New York.\", 'city': 'Armonk', 'phone': '914 499 1900', 'state': 'NY', 'country': 'United States', 'companyOfficers': [], 'website': 'https://www.ibm.com', 'maxAge': 1, 'address1': 'One New Orchard Road', 'industry': 'Information Technology Services', 'ebitdaMargins': 0.21030001, 'profitMargins': 0.06401, 'grossMargins': 0.48443002, 'operatingCashflow': 16112000000, 'revenueGrowth': 0.003, 'operatingMargins': 0.119849995, 'ebitda': 15658999808, 'targetLowPrice': 115, 'recommendationKey': 'buy', 'grossProfits': 35575000000, 'freeCashflow': 12530875392, 'targetMedianPrice': 145, 'currentPrice': 133.925, 'earningsGrowth': -0.338, 'currentRatio': 0.836, 'returnOnAssets': 0.03739, 'numberOfAnalystOpinions': 17, 'targetMeanPrice': 145.17, 'debtToEquity': 263.801, 'returnOnEquity': 0.21405001, 'targetHighPrice': 170, 'totalCash': 8055000064, 'totalDebt': 58978000896, 'totalRevenue': 74461003776, 'totalCashPerShare': 8.982, 'financialCurrency': 'USD', 'revenuePerShare': 83.234, 'quickRatio': 0.65, 'recommendationMean': 2.5, 'exchange': 'NYQ', 'shortName': 'International Business Machines', 'longName': 'International Business Machines Corporation', 'exchangeTimezoneName': 'America/New_York', 'exchangeTimezoneShortName': 'EST', 'isEsgPopulated': False, 'gmtOffSetMilliseconds': '-18000000', 'quoteType': 'EQUITY', 'symbol': 'IBM', 'messageBoardId': 'finmb_112350', 'market': 'us_market', 'annualHoldingsTurnover': None, 'enterpriseToRevenue': 2.283, 'beta3Year': None, 'enterpriseToEbitda': 10.856, '52WeekChange': 0.11573899, 'morningStarRiskRating': None, 'forwardEps': 10.3, 'revenueQuarterlyGrowth': None, 'sharesOutstanding': 896320000, 'fundInceptionDate': None, 'annualReportExpenseRatio': None, 'totalAssets': None, 'bookValue': 24.786, 'sharesShort': 22951540, 'sharesPercentSharesOut': 0.0256, 'fundFamily': None, 'lastFiscalYearEnd': 1609372800, 'heldPercentInstitutions': 0.57852, 'netIncomeToCommon': 4675999744, 'trailingEps': 5.283, 'lastDividendValue': 1.64, 'SandP52WeekChange': 0.2825023, 'priceToBook': 5.403252, 'heldPercentInsiders': 0.00131, 'nextFiscalYearEnd': 1672444800, 'yield': None, 'mostRecentQuarter': 1632960000, 'shortRatio': 4.18, 'sharesShortPreviousMonthDate': 1636934400, 'floatShares': 895221981, 'beta': 1.103896, 'enterpriseValue': 169994633216, 'priceHint': 2, 'threeYearAverageReturn': None, 'lastSplitDate': 1635984000, 'lastSplitFactor': '1046:1000', 'legalType': None, 'lastDividendDate': 1636416000, 'morningStarOverallRating': None, 'earningsQuarterlyGrowth': -0.335, 'priceToSalesTrailing12Months': 1.6121144, 'dateShortInterest': 1639526400, 'pegRatio': 1.96, 'ytdReturn': None, 'forwardPE': 13.002427, 'lastCapGain': None, 'shortPercentOfFloat': 0.0256, 'sharesShortPriorMonth': 24176357, 'impliedSharesOutstanding': None, 'category': None, 'fiveYearAverageReturn': None, 'previousClose': 132.63, 'regularMarketOpen': 132.4, 'twoHundredDayAverage': 131.53975, 'trailingAnnualDividendYield': 0.04931011, 'payoutRatio': 1.2625, 'volume24Hr': None, 'regularMarketDayHigh': 134.21, 'navPrice': None, 'averageDailyVolume10Day': 5347370, 'regularMarketPreviousClose': 132.63, 'fiftyDayAverage': 122.51004, 'trailingAnnualDividendRate': 6.54, 'open': 132.4, 'toCurrency': None, 'averageVolume10days': 5347370, 'expireDate': None, 'algorithm': None, 'dividendRate': 6.56, 'exDividendDate': 1636416000, 'circulatingSupply': None, 'startDate': None, 'regularMarketDayLow': 132.3, 'currency': 'USD', 'trailingPE': 25.35018, 'regularMarketVolume': 1838299, 'lastMarket': None, 'maxSupply': None, 'openInterest': None, 'marketCap': 120039661568, 'volumeAllCurrencies': None, 'strikePrice': None, 'averageVolume': 6130944, 'dayLow': 132.3, 'ask': 133.96, 'askSize': 800, 'volume': 1838299, 'fiftyTwoWeekHigh': 146.11855, 'fromCurrency': None, 'fiveYearAvgDividendYield': 4.54, 'fiftyTwoWeekLow': 112.19885, 'bid': 133.92, 'tradeable': False, 'dividendYield': 0.0495, 'bidSize': 900, 'dayHigh': 134.21, 'regularMarketPrice': 133.925, 'preMarketPrice': 132.31, 'logo_url': 'https://logo.clearbit.com/ibm.com'}\n"
     ]
    }
   ],
   "source": [
    "# Alternatively, we could download the IBM daily price data directly from the Yahoo!Finance API; \n",
    "# see the following code:\n",
    "\n",
    "import yfinance as yf\n",
    "x=yf.Ticker(\"IBM\")\n",
    "print(x.info)"
   ]
  },
  {
   "cell_type": "code",
   "execution_count": 9,
   "id": "c0c4b6ac",
   "metadata": {},
   "outputs": [
    {
     "name": "stdout",
     "output_type": "stream",
     "text": [
      "                  Open        High         Low       Close   Volume  \\\n",
      "Date                                                                  \n",
      "2021-12-22  129.059998  129.789993  127.599998  129.750000  3923200   \n",
      "2021-12-23  130.000000  130.960007  129.520004  130.630005  3648400   \n",
      "2021-12-27  130.630005  131.649994  129.949997  131.619995  4293900   \n",
      "2021-12-28  131.600006  133.220001  131.589996  132.630005  3445200   \n",
      "2021-12-29  132.399994  134.210007  132.300003  133.910004  1840198   \n",
      "\n",
      "            Dividends  Stock Splits  \n",
      "Date                                 \n",
      "2021-12-22          0             0  \n",
      "2021-12-23          0             0  \n",
      "2021-12-27          0             0  \n",
      "2021-12-28          0             0  \n",
      "2021-12-29          0             0  \n"
     ]
    }
   ],
   "source": [
    "print(x.history(period=\"5d\"))"
   ]
  },
  {
   "cell_type": "code",
   "execution_count": 2,
   "id": "a69c0a97",
   "metadata": {},
   "outputs": [
    {
     "data": {
      "text/html": [
       "<div>\n",
       "<style scoped>\n",
       "    .dataframe tbody tr th:only-of-type {\n",
       "        vertical-align: middle;\n",
       "    }\n",
       "\n",
       "    .dataframe tbody tr th {\n",
       "        vertical-align: top;\n",
       "    }\n",
       "\n",
       "    .dataframe thead th {\n",
       "        text-align: right;\n",
       "    }\n",
       "</style>\n",
       "<table border=\"1\" class=\"dataframe\">\n",
       "  <thead>\n",
       "    <tr style=\"text-align: right;\">\n",
       "      <th></th>\n",
       "      <th>52 Week Range</th>\n",
       "      <th>$112.10 - 145.99</th>\n",
       "    </tr>\n",
       "  </thead>\n",
       "  <tbody>\n",
       "    <tr>\n",
       "      <th>0</th>\n",
       "      <td>Avg Daily Vol (3 Mo)</td>\n",
       "      <td>5947047</td>\n",
       "    </tr>\n",
       "    <tr>\n",
       "      <th>1</th>\n",
       "      <td>Basic Shares (M)</td>\n",
       "      <td>896.8</td>\n",
       "    </tr>\n",
       "    <tr>\n",
       "      <th>2</th>\n",
       "      <td>Market Cap (B)</td>\n",
       "      <td>118.9</td>\n",
       "    </tr>\n",
       "    <tr>\n",
       "      <th>3</th>\n",
       "      <td>Dividend Yield</td>\n",
       "      <td>0.049</td>\n",
       "    </tr>\n",
       "    <tr>\n",
       "      <th>4</th>\n",
       "      <td>First Trading Date</td>\n",
       "      <td>21 Jan '72</td>\n",
       "    </tr>\n",
       "    <tr>\n",
       "      <th>5</th>\n",
       "      <td>FD Shares Out (M)</td>\n",
       "      <td>917.2</td>\n",
       "    </tr>\n",
       "    <tr>\n",
       "      <th>6</th>\n",
       "      <td>FD Mkt Cap (B)</td>\n",
       "      <td>121.7</td>\n",
       "    </tr>\n",
       "    <tr>\n",
       "      <th>7</th>\n",
       "      <td>EV (B)</td>\n",
       "      <td>174.9</td>\n",
       "    </tr>\n",
       "    <tr>\n",
       "      <th>8</th>\n",
       "      <td>WACC</td>\n",
       "      <td>0.046</td>\n",
       "    </tr>\n",
       "    <tr>\n",
       "      <th>9</th>\n",
       "      <td>Float</td>\n",
       "      <td>0.999</td>\n",
       "    </tr>\n",
       "    <tr>\n",
       "      <th>10</th>\n",
       "      <td>Institutional</td>\n",
       "      <td>0.583</td>\n",
       "    </tr>\n",
       "    <tr>\n",
       "      <th>11</th>\n",
       "      <td>Top 10 Inst Hldrs</td>\n",
       "      <td>0.264</td>\n",
       "    </tr>\n",
       "    <tr>\n",
       "      <th>12</th>\n",
       "      <td>Broker Contributors</td>\n",
       "      <td>18</td>\n",
       "    </tr>\n",
       "    <tr>\n",
       "      <th>13</th>\n",
       "      <td>Avg Rating</td>\n",
       "      <td>Hold (1.78)</td>\n",
       "    </tr>\n",
       "    <tr>\n",
       "      <th>14</th>\n",
       "      <td>Target Price</td>\n",
       "      <td>142.07</td>\n",
       "    </tr>\n",
       "    <tr>\n",
       "      <th>15</th>\n",
       "      <td>LT Growth Rate</td>\n",
       "      <td>0.069</td>\n",
       "    </tr>\n",
       "  </tbody>\n",
       "</table>\n",
       "</div>"
      ],
      "text/plain": [
       "           52 Week Range $112.10 - 145.99\n",
       "0   Avg Daily Vol (3 Mo)          5947047\n",
       "1       Basic Shares (M)            896.8\n",
       "2         Market Cap (B)            118.9\n",
       "3         Dividend Yield            0.049\n",
       "4     First Trading Date       21 Jan '72\n",
       "5      FD Shares Out (M)            917.2\n",
       "6         FD Mkt Cap (B)            121.7\n",
       "7                 EV (B)            174.9\n",
       "8                   WACC            0.046\n",
       "9                  Float            0.999\n",
       "10         Institutional            0.583\n",
       "11     Top 10 Inst Hldrs            0.264\n",
       "12   Broker Contributors               18\n",
       "13            Avg Rating      Hold (1.78)\n",
       "14          Target Price           142.07\n",
       "15        LT Growth Rate            0.069"
      ]
     },
     "execution_count": 2,
     "metadata": {},
     "output_type": "execute_result"
    }
   ],
   "source": [
    "# We could retrieve data from an Excel file by using the ExcelFile() function from the pandas module. \n",
    "# First, we download an Excel file from FactSet\n",
    "import pandas as pd\n",
    "infile=pd.ExcelFile(\"./excelFile.xlsx\")\n",
    "x=infile.parse(\"Sheet1\")\n",
    "x"
   ]
  }
 ],
 "metadata": {
  "kernelspec": {
   "display_name": "Python 3 (ipykernel)",
   "language": "python",
   "name": "python3"
  },
  "language_info": {
   "codemirror_mode": {
    "name": "ipython",
    "version": 3
   },
   "file_extension": ".py",
   "mimetype": "text/x-python",
   "name": "python",
   "nbconvert_exporter": "python",
   "pygments_lexer": "ipython3",
   "version": "3.9.7"
  }
 },
 "nbformat": 4,
 "nbformat_minor": 5
}
